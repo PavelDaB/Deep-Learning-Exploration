{
  "nbformat": 4,
  "nbformat_minor": 0,
  "metadata": {
    "colab": {
      "provenance": [],
      "gpuType": "T4",
      "include_colab_link": true
    },
    "kernelspec": {
      "name": "python3",
      "display_name": "Python 3"
    },
    "language_info": {
      "name": "python"
    },
    "accelerator": "GPU"
  },
  "cells": [
    {
      "cell_type": "markdown",
      "metadata": {
        "id": "view-in-github",
        "colab_type": "text"
      },
      "source": [
        "<a href=\"https://colab.research.google.com/github/PavelDaB/Deep-Learning-Exploration/blob/main/Neural%20Network%20Beginning%20Model.ipynb\" target=\"_parent\"><img src=\"https://colab.research.google.com/assets/colab-badge.svg\" alt=\"Open In Colab\"/></a>"
      ]
    },
    {
      "cell_type": "code",
      "source": [
        "import torch\n",
        "import torch.nn as nn\n",
        "import torch.nn.functional as F"
      ],
      "metadata": {
        "id": "vYgH2hnruF_h"
      },
      "execution_count": 2,
      "outputs": []
    },
    {
      "cell_type": "code",
      "source": [
        "# Creating a model class inherits nn.Module\n",
        "class Model(nn.Module):\n",
        "  #Input layer 4 feats (s width, s length, p width, p length of iris flower) -> to a hidden layer (h1) -> h2 (n) -> output (3 classes: Setosa, Veriscolour, or Virginica)\n",
        "  def __init__(self, in_feature = 4, h1 = 8, h2 = 9, out_features = 3):\n",
        "    super().__init__() # makes the mod work\n",
        "    self.fc1 = nn.Linear(in_feature, h1)\n",
        "    self.fc2 = nn.Linear(h1, h2)\n",
        "    self.out = nn.Linear(h2, out_features)\n",
        "\n",
        "  def forward(self, x):\n",
        "    x = F.relu(self.fc1(x))\n",
        "    x = F.relu(self.fc2(x))\n",
        "    x = self.out(x)\n",
        "\n",
        "    return x\n"
      ],
      "metadata": {
        "id": "-3fe9kzlmdNA"
      },
      "execution_count": 6,
      "outputs": []
    },
    {
      "cell_type": "code",
      "source": [
        "# Manual seed for rando\n",
        "torch.manual_seed(41)\n",
        "# Instance of mod\n",
        "model = Model()"
      ],
      "metadata": {
        "id": "w0Wd2cOapnOf"
      },
      "execution_count": 7,
      "outputs": []
    }
  ]
}